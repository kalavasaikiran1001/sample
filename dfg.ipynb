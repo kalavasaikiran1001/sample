{
 "cells": [
  {
   "cell_type": "code",
   "execution_count": 1,
   "id": "daa292e9-25c6-4fda-a68c-415d3ac0552b",
   "metadata": {},
   "outputs": [
    {
     "name": "stdout",
     "output_type": "stream",
     "text": [
      "sd\n"
     ]
    }
   ],
   "source": [
    "print(\"sd\")"
   ]
  },
  {
   "cell_type": "code",
   "execution_count": null,
   "id": "4bc458c1-ccdb-413b-8359-369e0fd160ab",
   "metadata": {},
   "outputs": [],
   "source": []
  }
 ],
 "metadata": {
  "kernelspec": {
   "display_name": "conda_python3",
   "language": "python",
   "name": "conda_python3"
  },
  "language_info": {
   "codemirror_mode": {
    "name": "ipython",
    "version": 3
   },
   "file_extension": ".py",
   "mimetype": "text/x-python",
   "name": "python",
   "nbconvert_exporter": "python",
   "pygments_lexer": "ipython3",
   "version": "3.10.18"
  }
 },
 "nbformat": 4,
 "nbformat_minor": 5
}
